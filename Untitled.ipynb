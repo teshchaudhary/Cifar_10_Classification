{
 "cells": [
  {
   "cell_type": "code",
   "execution_count": 25,
   "id": "386f732f-4ccc-4539-843b-d250f3ebc17d",
   "metadata": {},
   "outputs": [],
   "source": [
    "# Importing Libraries\n",
    "import matplotlib.pyplot as plt\n",
    "%matplotlib inline\n",
    "from sklearn.preprocessing import LabelEncoder\n",
    "import keras\n",
    "from keras.layers import Flatten, Dense\n",
    "from keras.models import Model\n",
    "from keras.applications.mobilenet import MobileNet\n",
    "import pandas as pd\n",
    "import numpy as np\n",
    "from PIL import Image\n",
    "import os\n",
    "import warnings\n",
    "from keras.src.utils.np_utils import to_categorical\n",
    "warnings.filterwarnings('ignore')"
   ]
  },
  {
   "cell_type": "code",
   "execution_count": 2,
   "id": "b9e8311c-f95a-4e25-baa7-af5903130410",
   "metadata": {},
   "outputs": [
    {
     "name": "stdout",
     "output_type": "stream",
     "text": [
      "truck\n"
     ]
    },
    {
     "data": {
      "image/jpeg": "[encoded data removed]",
      "image/png": "[encoded data removed]",
      "text/plain": [
       "<PIL.PngImagePlugin.PngImageFile image mode=RGB size=32x32>"
      ]
     },
     "execution_count": 2,
     "metadata": {},
     "output_type": "execute_result"
    }
   ],
   "source": [
    "labels = pd.read_csv('./cifar10Labels.csv', index_col=0)\n",
    "\n",
    "# View an image\n",
    "img_idx = 15\n",
    "print(labels.label[img_idx])\n",
    "Image.open('cifar10/'+str(img_idx)+'.png')"
   ]
  },
  {
   "cell_type": "code",
   "execution_count": 3,
   "id": "29ea8180-d1d3-447a-8c6a-4ad4d7568326",
   "metadata": {},
   "outputs": [],
   "source": [
    "# Splitting data into Train and Test data\n",
    "from sklearn.model_selection import train_test_split\n",
    "\n",
    "y_train, y_test = train_test_split(labels.label, test_size=0.3)\n",
    "train_idx, test_idx = y_train.index, y_test.index # Storing indexes for later use"
   ]
  },
  {
   "cell_type": "code",
   "execution_count": 4,
   "id": "cf6b0cbe-24d3-4d95-b058-91384bec6ad4",
   "metadata": {},
   "outputs": [],
   "source": [
    "# Reading images for training \n",
    "temp = []\n",
    "for img_idx in y_train.index:\n",
    "    img_path = os.path.join('cifar10/', str(img_idx) + '.png')\n",
    "    img = np.array(Image.open(img_path)).astype('float32')        \n",
    "    temp.append(img)    \n",
    "X_train = np.stack(temp)"
   ]
  },
  {
   "cell_type": "code",
   "execution_count": 5,
   "id": "326a5e26-2283-4103-ad38-494ca9a06fbf",
   "metadata": {},
   "outputs": [],
   "source": [
    "# Reading images for testing \n",
    "temp = []\n",
    "for img_idx in y_test.index:\n",
    "    img_path = os.path.join('cifar10/', str(img_idx) + '.png')\n",
    "    img = np.array(Image.open(img_path)).astype('float32')        \n",
    "    temp.append(img)\n",
    "X_test = np.stack(temp)"
   ]
  },
  {
   "cell_type": "code",
   "execution_count": 6,
   "id": "2ece763f-1e8e-4647-875c-0df134b875d6",
   "metadata": {},
   "outputs": [],
   "source": [
    "# Normalizing image data\n",
    "X_train = X_train/255.\n",
    "X_test = X_test/255."
   ]
  },
  {
   "cell_type": "markdown",
   "id": "c1bf20ff-1553-4074-af75-a6c448e62fd5",
   "metadata": {},
   "source": [
    "# Label encode the image respective labels:"
   ]
  },
  {
   "cell_type": "code",
   "execution_count": 10,
   "id": "68d509fc-af0a-411e-8912-5486e5e01e51",
   "metadata": {},
   "outputs": [],
   "source": [
    "# One-hot encoding 10 output classes\n",
    "encode_X = LabelEncoder()\n",
    "encode_X_fit = encode_X.fit_transform(y_train)\n",
    "y_train = to_categorical(encode_X_fit)"
   ]
  },
  {
   "cell_type": "markdown",
   "id": "3eb87ed8-8508-4bb4-8111-434e3a507345",
   "metadata": {},
   "source": [
    "# Define the CNN network:"
   ]
  },
  {
   "cell_type": "code",
   "execution_count": 11,
   "id": "1f912eda-f71e-4243-8bd1-50c4f240aea9",
   "metadata": {},
   "outputs": [],
   "source": [
    "num_classes = 10\n",
    "\n",
    "model = keras.models.Sequential([    \n",
    "    # Adding first convolutional-relu layer\n",
    "    # Same padding is used, adding extra rows and columns of pixels to match output feature map with the input\n",
    "    keras.layers.Conv2D(filters=32, kernel_size=(3, 3), strides=1, padding='same', activation='relu', \n",
    "                        kernel_regularizer=keras.regularizers.l2(0.001), input_shape=(32, 32, 3), name='Conv_1'),\n",
    "    \n",
    "    # Normalizing the parameters from last layer to speed up the performance (This is just for performance boost so it is optional)\n",
    "    keras.layers.BatchNormalization(name='BN_1'),\n",
    "    \n",
    "    # Adding first pooling layer\n",
    "    keras.layers.MaxPool2D(pool_size=(2, 2), name='MaxPool_1'),\n",
    "    \n",
    "    # Adding second convolutional-relu layer\n",
    "    keras.layers.Conv2D(filters=64, kernel_size=(3, 3), strides=1, padding='same', activation='relu', \n",
    "                        kernel_regularizer=keras.regularizers.l2(0.001), name='Conv_2'),\n",
    "\n",
    "    # Normalizing the parameters\n",
    "    keras.layers.BatchNormalization(name='BN_2'),\n",
    "    \n",
    "    # Adding second pooling layer\n",
    "    keras.layers.MaxPool2D(pool_size=(2, 2), name='MaxPool_2'),\n",
    "\n",
    "    # Since CNN is ready then attaching it to go further with traditional neural network\n",
    "    # Flattens the input\n",
    "    keras.layers.Flatten(name='Flat'),\n",
    "    # Fully-Connected layer\n",
    "    keras.layers.Dense(num_classes, activation='softmax', name='pred_layer')    \n",
    "])"
   ]
  },
  {
   "cell_type": "code",
   "execution_count": 12,
   "id": "1d4004eb-ef0d-47fb-80cf-18a261386689",
   "metadata": {},
   "outputs": [
    {
     "name": "stdout",
     "output_type": "stream",
     "text": [
      "Model: \"sequential\"\n",
      "_________________________________________________________________\n",
      " Layer (type)                Output Shape              Param #   \n",
      "=================================================================\n",
      " Conv_1 (Conv2D)             (None, 32, 32, 32)        896       \n",
      "                                                                 \n",
      " BN_1 (BatchNormalization)   (None, 32, 32, 32)        128       \n",
      "                                                                 \n",
      " MaxPool_1 (MaxPooling2D)    (None, 16, 16, 32)        0         \n",
      "                                                                 \n",
      " Conv_2 (Conv2D)             (None, 16, 16, 64)        18496     \n",
      "                                                                 \n",
      " BN_2 (BatchNormalization)   (None, 16, 16, 64)        256       \n",
      "                                                                 \n",
      " MaxPool_2 (MaxPooling2D)    (None, 8, 8, 64)          0         \n",
      "                                                                 \n",
      " Flat (Flatten)              (None, 4096)              0         \n",
      "                                                                 \n",
      " pred_layer (Dense)          (None, 10)                40970     \n",
      "                                                                 \n",
      "=================================================================\n",
      "Total params: 60746 (237.29 KB)\n",
      "Trainable params: 60554 (236.54 KB)\n",
      "Non-trainable params: 192 (768.00 Byte)\n",
      "_________________________________________________________________\n"
     ]
    }
   ],
   "source": [
    "model.summary()"
   ]
  },
  {
   "cell_type": "code",
   "execution_count": 13,
   "id": "50ab9d33-5e8a-43c8-8dea-8557fcee5e11",
   "metadata": {},
   "outputs": [
    {
     "name": "stdout",
     "output_type": "stream",
     "text": [
      "Epoch 1/5\n",
      "875/875 [==============================] - ETA: 0s - loss: 1.6857 - accuracy: 0.4850WARNING:tensorflow:Can save best model only with val_acc available, skipping.\n",
      "875/875 [==============================] - 45s 49ms/step - loss: 1.6857 - accuracy: 0.4850 - val_loss: 1.8924 - val_accuracy: 0.4617\n",
      "Epoch 2/5\n",
      "875/875 [==============================] - ETA: 0s - loss: 1.2065 - accuracy: 0.6122WARNING:tensorflow:Can save best model only with val_acc available, skipping.\n",
      "875/875 [==============================] - 43s 50ms/step - loss: 1.2065 - accuracy: 0.6122 - val_loss: 1.4175 - val_accuracy: 0.5537\n",
      "Epoch 3/5\n",
      "875/875 [==============================] - ETA: 0s - loss: 1.0311 - accuracy: 0.6650WARNING:tensorflow:Can save best model only with val_acc available, skipping.\n",
      "875/875 [==============================] - 45s 51ms/step - loss: 1.0311 - accuracy: 0.6650 - val_loss: 1.3281 - val_accuracy: 0.5804\n",
      "Epoch 4/5\n",
      "874/875 [============================>.] - ETA: 0s - loss: 0.9247 - accuracy: 0.7038WARNING:tensorflow:Can save best model only with val_acc available, skipping.\n",
      "875/875 [==============================] - 46s 52ms/step - loss: 0.9251 - accuracy: 0.7037 - val_loss: 1.3351 - val_accuracy: 0.5974\n",
      "Epoch 5/5\n",
      "875/875 [==============================] - ETA: 0s - loss: 0.8472 - accuracy: 0.7280WARNING:tensorflow:Can save best model only with val_acc available, skipping.\n",
      "875/875 [==============================] - 46s 52ms/step - loss: 0.8472 - accuracy: 0.7280 - val_loss: 1.2902 - val_accuracy: 0.6156\n"
     ]
    },
    {
     "data": {
      "text/plain": [
       "<keras.src.callbacks.History at 0x2550b119990>"
      ]
     },
     "execution_count": 13,
     "metadata": {},
     "output_type": "execute_result"
    }
   ],
   "source": [
    "# Compiling the model\n",
    "model.compile(loss='categorical_crossentropy', \n",
    "              optimizer=keras.optimizers.Adam(), \n",
    "              metrics=['accuracy'])\n",
    "\n",
    "cpfile = r'CIFAR10_checkpoint.hdf5' # Weights to be stored in HDF5 format\n",
    "\n",
    "cb_checkpoint = keras.callbacks.ModelCheckpoint(cpfile, monitor='val_acc', verbose=1, save_best_only=True, mode='max')\n",
    "epochs = 5\n",
    "model.fit(X_train, y_train, epochs=epochs, validation_split=0.2, callbacks=[cb_checkpoint])"
   ]
  },
  {
   "cell_type": "code",
   "execution_count": null,
   "id": "4761b1c8-2ccf-49c7-8afa-df0efd292068",
   "metadata": {},
   "outputs": [],
   "source": []
  }
 ],
 "metadata": {
  "kernelspec": {
   "display_name": "Python 3 (ipykernel)",
   "language": "python",
   "name": "python3"
  },
  "language_info": {
   "codemirror_mode": {
    "name": "ipython",
    "version": 3
   },
   "file_extension": ".py",
   "mimetype": "text/x-python",
   "name": "python",
   "nbconvert_exporter": "python",
   "pygments_lexer": "ipython3",
   "version": "3.11.5"
  }
 },
 "nbformat": 4,
 "nbformat_minor": 5
}
